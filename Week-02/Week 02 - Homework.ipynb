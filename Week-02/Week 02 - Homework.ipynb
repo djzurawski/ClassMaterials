{
 "cells": [
  {
   "cell_type": "markdown",
   "metadata": {
    "slideshow": {
     "slide_type": "slide"
    }
   },
   "source": [
    "# Python Plotting with Subplots "
   ]
  },
  {
   "cell_type": "markdown",
   "metadata": {
    "slideshow": {
     "slide_type": "subslide"
    }
   },
   "source": [
    "### Homework for Week 02 (Tue 19 Jan 2016)"
   ]
  },
  {
   "cell_type": "markdown",
   "metadata": {
    "slideshow": {
     "slide_type": "slide"
    }
   },
   "source": [
    "You will use the code provided below which mines the ESRL(NOAA/NWS) data server for the daily weather in Boulder Colorado for 2012. With this data you will create a vertically layed out subplot with two plots which will be described below. \n",
    "\n",
    "We will be looking at:\n",
    "\n",
    "1. <a href=\"#goal\">Our Goal: Plotting With Subplots.</a>\n",
    "2. <a href=\"#gallery\">Matplotlib Gallery.</a>\n",
    "3. <a href=\"#esrlcode\">Mining ESRL 2012 temperature data python code.</a>\n",
    "4. <a href=\"#mmean\">Monthly mean temperatures.</a>\n",
    "5. <a href=\"#subplots\">Subplots.</a>\n",
    "6. <a href=\"#hw_code\">Enter your code below.</a>\n"
   ]
  },
  {
   "cell_type": "markdown",
   "metadata": {},
   "source": [
    "<a id=\"goal\">\n",
    "### Our Goal: Plotting With Subplots</a>\n",
    "\n",
    "* Matplotlib Gallery\n",
    "* Create a vertical subplot layout with two plots\n",
    "* The top plot will be a scatter plot of 'Daily Maximum Temperatures' along with the average daily temperature.\n",
    "* The bottom plot will be a bar plot of 'Average of Daily High Temperature Binned by Month' along with the average monthly temperature.\n"
   ]
  },
  {
   "cell_type": "markdown",
   "metadata": {},
   "source": [
    "<a id=\"gallery\">\n",
    "### Matplotlib Gallery</a>\n",
    "Pythons matplotlib is extensive and contains all the plotting functionality Matlab has plus more. Its nearly impossible to remember it all so your best friend is (or will be) the matplotlib galley (http://matplotlib.org/gallery.html). \n",
    "\n",
    "Assume you want some guidance in creating a subplot so go to matplotlib's gallery page (http://matplotlib.org/1.2.1/gallery.html). \n",
    "Using the 'Quick Search' type in 'subplot' then hit 'Go'\n",
    "Note that there are two really promising links that result from our search.\n",
    "'matplotlib.pyplot.subplot' and 'Our Favorite Recipies' both give you a quick start on creating subplots. Note the first link gives you the actual function documentation as well as an example!\n",
    "\n",
    "Its suggested you look in the gallery for the following subjects.\n",
    "\n",
    "* Subplot\n",
    "* plot_date\n",
    "* Bar plot\n"
   ]
  },
  {
   "cell_type": "markdown",
   "metadata": {
    "slideshow": {
     "slide_type": "slide"
    }
   },
   "source": [
    "<a id=\"esrl code\">\n",
    "### Mining ESRL 2012 temperature data python code</a>\n",
    "\n",
    "You will start off by using the provided python code which will access the ESRL data server to retrieve and extract weather information for Boulder weather statistics. It will then extract all the temperature data for 2012 and provide variables containing the full dataset for 2012, the average maximum temperatures as well as the daily minimum and maximum temperatures."
   ]
  },
  {
   "cell_type": "code",
   "execution_count": 1,
   "metadata": {
    "collapsed": false
   },
   "outputs": [],
   "source": [
    "%matplotlib inline      "
   ]
  },
  {
   "cell_type": "code",
   "execution_count": 2,
   "metadata": {
    "collapsed": false,
    "slideshow": {
     "slide_type": "subslide"
    }
   },
   "outputs": [
    {
     "name": "stdout",
     "output_type": "stream",
     "text": [
      "DONE\n"
     ]
    }
   ],
   "source": [
    "import urllib2\n",
    "import StringIO as sio\n",
    "import itertools as itt\n",
    "import datetime as dt\n",
    "import numpy as np\n",
    "\n",
    "col_dtypes= [('ymd', int, 3),\n",
    "             ('tmax', float),\n",
    "             ('tmin', float),\n",
    "             ('pcep', float),\n",
    "             ('snow', float),\n",
    "             ('scvr', float),\n",
    "            ]\n",
    "\n",
    "def cdate(x):\n",
    "    return dt.datetime(int(x[0]), int(x[1]), int(x[2]))\n",
    "\n",
    "# Define the URL and load the raw data from ESRL\n",
    "durl  = \"http://www.esrl.noaa.gov/psd/boulder/data/boulderdaily.complete\"\n",
    "dres  = urllib2.urlopen(durl)\n",
    "dall = sio.StringIO(dres.read())\n",
    "\n",
    "# Filter out only data from 2012\n",
    "year = \"2012\"\n",
    "\n",
    "# Slurp in the data\n",
    "data = np.genfromtxt(itt.ifilter(lambda x: x.strip().startswith(year), dall),\n",
    "                     dtype=col_dtypes,\n",
    "                     filling_values=(-999))\n",
    "\n",
    "dates = np.array([cdate(x) for x in data['ymd']])  #Date values\n",
    "\n",
    "tmax_avg = np.mean(data['tmax']) #Average Daily Temperature\n",
    "tmax_low = np.amin(data['tmax']) #Daily Low Temperature\n",
    "tmax_hig = np.amax(data['tmax']) #Daily Maximum Temperature\n",
    "\n",
    "print(\"DONE\")"
   ]
  },
  {
   "cell_type": "markdown",
   "metadata": {},
   "source": [
    "<a id=\"mmean\">\n",
    "### Monthly mean temperatures</a>\n",
    "\n",
    "For our bottom plot you will use the calculated monthly average of the daily maximum temperatures. Since each month has a different number of days the code iterates over an array to calculate the mean temperature for each month.\n"
   ]
  },
  {
   "cell_type": "code",
   "execution_count": 3,
   "metadata": {
    "collapsed": false
   },
   "outputs": [
    {
     "name": "stdout",
     "output_type": "stream",
     "text": [
      "DONE\n"
     ]
    }
   ],
   "source": [
    "m=0\n",
    "mnthMean = [] \n",
    "mnthStd = []\n",
    "mnths = np.array([31,29,31, 30, 31, 30, 31, 31, 30, 31,30,31])  # Number of days in each month\n",
    "monthArr = [i for i in range(0,12)]\n",
    "\n",
    "#Calculate the monthly means\n",
    "for i in monthArr:\n",
    "    monthDat = data['tmax'][m:m+mnths[i]]\n",
    "    mnthMean.append(np.mean(monthDat))\n",
    "    mnthStd.append(np.std(monthDat))\n",
    "    m = m+mnths[i]\n",
    " \n",
    "print(\"DONE\")"
   ]
  },
  {
   "cell_type": "markdown",
   "metadata": {},
   "source": [
    "<a id=\"subplots\">\n",
    "### Creating Subplots</a>\n",
    "Python subplots allow you to add more then one plot per figure. \n",
    "\n",
    "You want to create a plot that has two vertically stacked panels in it. \n",
    "\n",
    "* The top panel will produce a scatter plot of the 'Daily Maximum Temperatures' (this is part of your title for the plot, whats the second part of the title if you wish to tell people what you are plotting?) The x-axis will be the data for each day of the year. The x-axis labels should be the 3-letter abbreviation for each month appropriately spaced and not each actual date. The y-axis will be the maximum temperature for each day. Add a line plot of the average daily temerature for the full year. It is highly recommended that you look at a plot called 'plot_date' to most easily plot your data. \n",
    "\n",
    "* The bottom plot is a bar plot which you will title 'Average of Daily High Temperature Binned by Month' (again only part of the title, whats the second part?) The bar plot should include error bars indicating the high and low temperature for each month. Add a line plot of the average monthly temperature for the full year. The axis labeling will be basically the same as the above plot.\n",
    "\n",
    "* Make sure you include proper axis labels, including any relavent units. Add appropriate legends. Make sure the font sizes are easily readable.\n",
    "\n",
    "* When finsihed submit your completed and working Notebook to the 'Week 02: Homework' Dropbox on D2L.\n",
    "\n"
   ]
  },
  {
   "cell_type": "markdown",
   "metadata": {},
   "source": [
    "<a id=\"hw_code\">\n",
    "### Add your code in the cell below:</a>\n"
   ]
  },
  {
   "cell_type": "code",
   "execution_count": null,
   "metadata": {
    "collapsed": false
   },
   "outputs": [
    {
     "name": "stdout",
     "output_type": "stream",
     "text": [
      "[0, 31, 60, 91, 121, 152, 182, 213, 244, 274, 305, 335, 366]\n"
     ]
    },
    {
     "data": {
      "image/png": "[encoded data removed]",
      "text/plain": [
       "<matplotlib.figure.Figure at 0x7f6836035510>"
      ]
     },
     "metadata": {},
     "output_type": "display_data"
    }
   ],
   "source": [
    "#rint(m)\n",
    "#rint(mnthMean) \n",
    "#rint(mnthStd)\n",
    "#int(mnths)\n",
    "#rint(monthArr)\n",
    "#print(data['tmax'])\n",
    "\n",
    "lMnths=('Jan', 'Feb', 'Mar', 'Apr', 'May','Jun','Jul','Aug','Sep','Oct','Nov','Dec')     # x-axis labels\n",
    "numMonths = np.shape(mnthMean)[0]\n",
    "nMnths = np.arange(numMonths)  \n",
    "\n",
    "from matplotlib import pyplot as plt\n",
    "from matplotlib.dates import MonthLocator, DateFormatter\n",
    "import math\n",
    "\n",
    "\n",
    "\n",
    "%matplotlib inline\n",
    "fig = plt.figure()\n",
    "ax1 = fig.add_subplot(2,1,1, xticklabels=lMnths) # 1 row, 2 cols, graphic 1\n",
    "major_ticks = []\n",
    "major_ticks.append(0)\n",
    "\n",
    "for i in range(0,12):\n",
    "    value = major_ticks[i] + mnths[i]\n",
    "    #print(value)\n",
    "    major_ticks.append(value)\n",
    "print(major_ticks)\n",
    "\n",
    "\n",
    "ax1.set_xticks(major_ticks)\n",
    "#ax1.xaxisset_xticks(mnths, lMnths)\n",
    "\n",
    "\n",
    "\n",
    "\n",
    "ax2 = fig.add_subplot(2,1,2) # graphic 2\n",
    "\n",
    "ax1.plot([x for x in range(0, len(data['tmax']))], data['tmax'], 'o')\n",
    "\n",
    "fig.show()"
   ]
  },
  {
   "cell_type": "code",
   "execution_count": null,
   "metadata": {
    "collapsed": true
   },
   "outputs": [],
   "source": []
  }
 ],
 "metadata": {
  "kernelspec": {
   "display_name": "Python 2",
   "language": "python",
   "name": "python2"
  },
  "language_info": {
   "codemirror_mode": {
    "name": "ipython",
    "version": 2
   },
   "file_extension": ".py",
   "mimetype": "text/x-python",
   "name": "python",
   "nbconvert_exporter": "python",
   "pygments_lexer": "ipython2",
   "version": "2.7.11"
  }
 },
 "nbformat": 4,
 "nbformat_minor": 0
}
