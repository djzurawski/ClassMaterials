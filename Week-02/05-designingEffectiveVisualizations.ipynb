{
 "cells": [
  {
   "cell_type": "markdown",
   "metadata": {
    "slideshow": {
     "slide_type": "slide"
    }
   },
   "source": [
    "# Designing Effective Visualizations\n",
    "\n",
    "For any data sets there are many possibilities for mapping data components to graphical attributes.\n",
    "\n",
    "## Ineffective visualizations"
   ]
  },
  {
   "cell_type": "markdown",
   "metadata": {
    "slideshow": {
     "slide_type": "subslide"
    }
   },
   "source": [
    "- Too confusing\n",
    "- Too complex \n",
    "- Data is distorted\n",
    "- Unappealing"
   ]
  },
  {
   "cell_type": "markdown",
   "metadata": {},
   "source": [
    "\n",
    "## Designing Visualizations\n",
    "\n",
    "### Intuitive Mapping from Data to Visualization\n",
    "\n",
    "#### Plotting the distance of the planets from the sun\n",
    "\n",
    "http://www.physlink.com/Reference/AstroPhysical.cfm"
   ]
  },
  {
   "cell_type": "code",
   "execution_count": 1,
   "metadata": {
    "collapsed": true
   },
   "outputs": [],
   "source": [
    "%matplotlib inline\n",
    "import matplotlib.pyplot as plt\n",
    "import numpy as np"
   ]
  },
  {
   "cell_type": "code",
   "execution_count": 17,
   "metadata": {
    "collapsed": false
   },
   "outputs": [
    {
     "data": {
      "text/html": [
       "<div>\n",
       "<table border=\"1\" class=\"dataframe\">\n",
       "  <thead>\n",
       "    <tr style=\"text-align: right;\">\n",
       "      <th></th>\n",
       "      <th>Distance from sun [m]</th>\n",
       "      <th>Orbital period [s]</th>\n",
       "    </tr>\n",
       "  </thead>\n",
       "  <tbody>\n",
       "    <tr>\n",
       "      <th>Mercury</th>\n",
       "      <td>5.790000e+10</td>\n",
       "      <td>7600000</td>\n",
       "    </tr>\n",
       "    <tr>\n",
       "      <th>Venus</th>\n",
       "      <td>1.080000e+11</td>\n",
       "      <td>19400000</td>\n",
       "    </tr>\n",
       "    <tr>\n",
       "      <th>Earth</th>\n",
       "      <td>1.496000e+11</td>\n",
       "      <td>31560000</td>\n",
       "    </tr>\n",
       "    <tr>\n",
       "      <th>Mars</th>\n",
       "      <td>2.280000e+11</td>\n",
       "      <td>59400000</td>\n",
       "    </tr>\n",
       "    <tr>\n",
       "      <th>Jupiter</th>\n",
       "      <td>7.780000e+11</td>\n",
       "      <td>374000000</td>\n",
       "    </tr>\n",
       "    <tr>\n",
       "      <th>Saturn</th>\n",
       "      <td>1.430000e+12</td>\n",
       "      <td>935000000</td>\n",
       "    </tr>\n",
       "    <tr>\n",
       "      <th>Uranus</th>\n",
       "      <td>2.870000e+12</td>\n",
       "      <td>2640000000</td>\n",
       "    </tr>\n",
       "    <tr>\n",
       "      <th>Neptune</th>\n",
       "      <td>4.500000e+12</td>\n",
       "      <td>5220000000</td>\n",
       "    </tr>\n",
       "    <tr>\n",
       "      <th>Pluto</th>\n",
       "      <td>5.910000e+12</td>\n",
       "      <td>7820000000</td>\n",
       "    </tr>\n",
       "  </tbody>\n",
       "</table>\n",
       "</div>"
      ],
      "text/plain": [
       "         Distance from sun [m]  Orbital period [s]\n",
       "Mercury           5.790000e+10             7600000\n",
       "Venus             1.080000e+11            19400000\n",
       "Earth             1.496000e+11            31560000\n",
       "Mars              2.280000e+11            59400000\n",
       "Jupiter           7.780000e+11           374000000\n",
       "Saturn            1.430000e+12           935000000\n",
       "Uranus            2.870000e+12          2640000000\n",
       "Neptune           4.500000e+12          5220000000\n",
       "Pluto             5.910000e+12          7820000000"
      ]
     },
     "execution_count": 17,
     "metadata": {},
     "output_type": "execute_result"
    }
   ],
   "source": [
    "import pandas as pd\n",
    "\n",
    "planetData = pd.DataFrame({'Distance from sun [m]' : \n",
    "                            pd.Series([5.79e10, 1.08e11, 1.496e11, 2.28e11, 7.78e11, 1.43e12, \n",
    "                                     2.87e12, 4.5e12, 5.91e12], \n",
    "                                    index=['Mercury', 'Venus', 'Earth', 'Mars', 'Jupiter',\n",
    "                                           'Saturn', 'Uranus', 'Neptune', 'Pluto']),\n",
    "                            'Orbital period [s]' : \n",
    "                            pd.Series([7.6e6, 1.94e7, 3.156e7, 5.94e7, 3.74e8, 9.35e8, 2.64e9,\n",
    "                                      5.22e9, 7.82e9], \n",
    "                                    index=['Mercury', 'Venus', 'Earth', 'Mars', 'Jupiter',\n",
    "                                           'Saturn', 'Uranus', 'Neptune', 'Pluto'])\n",
    "              })\n",
    "planetData"
   ]
  },
  {
   "cell_type": "code",
   "execution_count": 18,
   "metadata": {
    "collapsed": false
   },
   "outputs": [
    {
     "data": {
      "text/plain": [
       "<matplotlib.axes._subplots.AxesSubplot at 0x10589b150>"
      ]
     },
     "execution_count": 18,
     "metadata": {},
     "output_type": "execute_result"
    },
    {
     "data": {
      "image/png": "[encoded data removed]",
      "text/plain": [
       "<matplotlib.figure.Figure at 0x1059b2610>"
      ]
     },
     "metadata": {},
     "output_type": "display_data"
    }
   ],
   "source": [
    "planetData.plot()"
   ]
  },
  {
   "cell_type": "code",
   "execution_count": null,
   "metadata": {
    "collapsed": true
   },
   "outputs": [],
   "source": []
  }
 ],
 "metadata": {
  "celltoolbar": "Slideshow",
  "kernelspec": {
   "display_name": "Python 2",
   "language": "python",
   "name": "python2"
  },
  "language_info": {
   "codemirror_mode": {
    "name": "ipython",
    "version": 2
   },
   "file_extension": ".py",
   "mimetype": "text/x-python",
   "name": "python",
   "nbconvert_exporter": "python",
   "pygments_lexer": "ipython2",
   "version": "2.7.11"
  }
 },
 "nbformat": 4,
 "nbformat_minor": 0
}
