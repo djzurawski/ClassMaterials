{
 "cells": [
  {
   "cell_type": "markdown",
   "metadata": {},
   "source": [
    "# In Class: Matplotlib"
   ]
  },
  {
   "cell_type": "code",
   "execution_count": 2,
   "metadata": {
    "collapsed": false
   },
   "outputs": [],
   "source": [
    "import numpy as np\n",
    "x = np.linspace(0, 2*np.pi, 100)\n",
    "y = np.sin(x)\n",
    "z = np.cos(x)"
   ]
  },
  {
   "cell_type": "markdown",
   "metadata": {},
   "source": [
    "## Plot 'y' and 'z'\n",
    "\n",
    "* Create a 2x2 grid of plots\n",
    "* Plot `y` and `z` in the first row \n",
    "    * `y` in red\n",
    "    * `z` in blue\n",
    "* Plot `y` and `z` in the second row\n",
    "    * `y` from $[ 0 .. \\pi]$\n",
    "    * `y` red circles only (no lines)\n",
    "    * Restrict the y-axis range to the relavant values\n",
    "    * `z` from $[ \\pi/2 .. 3\\pi/2]$\n",
    "    * `z` blue triangles with lines connecting them\n",
    "* Label plot axis\n",
    "* Label plots"
   ]
  },
  {
   "cell_type": "code",
   "execution_count": null,
   "metadata": {
    "collapsed": true
   },
   "outputs": [],
   "source": []
  }
 ],
 "metadata": {
  "kernelspec": {
   "display_name": "Python 2",
   "language": "python",
   "name": "python2"
  },
  "language_info": {
   "codemirror_mode": {
    "name": "ipython",
    "version": 2
   },
   "file_extension": ".py",
   "mimetype": "text/x-python",
   "name": "python",
   "nbconvert_exporter": "python",
   "pygments_lexer": "ipython2",
   "version": "2.7.11"
  }
 },
 "nbformat": 4,
 "nbformat_minor": 0
}
