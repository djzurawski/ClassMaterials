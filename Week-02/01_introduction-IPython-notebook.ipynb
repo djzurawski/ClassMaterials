{
 "cells": [
  {
   "cell_type": "markdown",
   "metadata": {
    "slideshow": {
     "slide_type": "slide"
    }
   },
   "source": [
    "<img src='https://raw.githubusercontent.com/scientific-visualization-2016/ClassMaterials/master/Images/rc_logo.png' style=\"height:75px\">"
   ]
  },
  {
   "cell_type": "markdown",
   "metadata": {
    "slideshow": {
     "slide_type": "slide"
    }
   },
   "source": [
    "# Data Analysis and Visualization with the IPython Notebook\n",
    "\n",
    "<img src='https://raw.githubusercontent.com/scientific-visualization-2016/ClassMaterials/master/Images/data_overview.png' style=\"height:500px\">\n",
    "\n",
    "Materials from Monte Lunacek and Thomas Hauser tutorials"
   ]
  },
  {
   "cell_type": "markdown",
   "metadata": {
    "slideshow": {
     "slide_type": "slide"
    }
   },
   "source": [
    "# Objectives\n",
    "\n",
    "- Become familiar with the **IPython Notebook**.\n",
    "- Introduce the **IPython landscape**.\n",
    "- Getting started with **visualization and data analysis** in Python\n",
    "- Conducting reproducible data analysis, visualization and computing experiments\n",
    "\n",
    "- How do you currently:\n",
    "    * wrangle data?\n",
    "    * visualize results?\n",
    "    * Analysis: machine learning, stats\n",
    "    * Parallel computing\n",
    "    * Big data"
   ]
  },
  {
   "cell_type": "markdown",
   "metadata": {
    "slideshow": {
     "slide_type": "slide"
    }
   },
   "source": [
    "# What is Python?\n",
    "\n",
    "<blockquote>\n",
    "<p>\n",
    "Python is a general-purpose programming language that blends procedural, functional, and object-oriented paradigms\n",
    "<p>\n",
    "Mark Lutz, <a href=\"http://www.amazon.com/Learning-Python-Edition-Mark-Lutz/dp/1449355730\">Learning Python</a>\n",
    "</blockquote>"
   ]
  },
  {
   "cell_type": "markdown",
   "metadata": {
    "slideshow": {
     "slide_type": "subslide"
    }
   },
   "source": [
    "* Simple, clean syntax\n",
    "* Easy to learn\n",
    "* Interpreted\n",
    "* Strong, dynamically typed\n",
    "* Runs everywhere: Linux, Mac, and Windows\n",
    "* [Free](http://www.fsf.org/) and open\n",
    "* Expressive: do more with fewer lines of code\n",
    "* Lean: **modules**\n",
    "* Options: **Procedural**, **object-oriented**, and **functional**."
   ]
  },
  {
   "cell_type": "markdown",
   "metadata": {
    "slideshow": {
     "slide_type": "subslide"
    }
   },
   "source": [
    "## Abstractions\n",
    "\n",
    "- Python provides high-level abstraction\n",
    "- Performance can be on par with compiled code if right approach is used"
   ]
  },
  {
   "cell_type": "markdown",
   "metadata": {},
   "source": [
    "<img src=\"https://s3.amazonaws.com/research_computing_tutorials/matrix_multiply_compare.png\" style=\"margin:5px auto; height:400px; display:block;\">"
   ]
  },
  {
   "cell_type": "markdown",
   "metadata": {
    "slideshow": {
     "slide_type": "slide"
    }
   },
   "source": [
    "# IPython and the Jupyter Notebook\n",
    "\n",
    "## IPython\n",
    "\n",
    "- Platform for interactive computing\n",
    "- Shell or browser-based notebook\n",
    "- Project Jupyter: https://jupyter.org\n",
    "   - Language independent notebook\n",
    "   - Can be used with R, Julia, bash ..."
   ]
  },
  {
   "cell_type": "markdown",
   "metadata": {
    "slideshow": {
     "slide_type": "slide"
    }
   },
   "source": [
    "# Jupyter IPython Notebook\n",
    "\n",
    "http://blog.fperez.org/2012/01/ipython-notebook-historical.html\n",
    "\n",
    "Interactive web-based computing, data analysis, and documentation.\n",
    "\n",
    "- One document for code and output\n",
    "- Run locally and remote\n",
    "- Document process\n",
    "- Share results"
   ]
  },
  {
   "cell_type": "markdown",
   "metadata": {
    "slideshow": {
     "slide_type": "subslide"
    }
   },
   "source": [
    "<img src='https://raw.githubusercontent.com/scientific-visualization-2016/ClassMaterials/master/Images/traditional_python.png'>"
   ]
  },
  {
   "cell_type": "markdown",
   "metadata": {
    "slideshow": {
     "slide_type": "slide"
    }
   },
   "source": [
    "<img src='https://raw.githubusercontent.com/scientific-visualization-2016/ClassMaterials/master/Images/ipython-notebook.png'>"
   ]
  },
  {
   "cell_type": "markdown",
   "metadata": {
    "slideshow": {
     "slide_type": "slide"
    }
   },
   "source": [
    "# Integrate Code and Documentation\n",
    "\n",
    "- Data structure ouput\n",
    "- Inline plots\n",
    "- Conversation sytle programming ([Literate programming](http://en.wikipedia.org/wiki/Literate_programming))\n",
    "- Telling a data story\n",
    "\n",
    "\n",
    "- Great for *iterative* programming.\n",
    "    - Data analysis\n",
    "    - Quick scripts\n",
    "    - Prototyping\n",
    "    \n",
    "- 2 type of cells:\n",
    "    - `Markdown` for documentation\n",
    "        - `Markdown` can contain `LaTeX` for equations\n",
    "    - `Code` for execution programs"
   ]
  },
  {
   "cell_type": "markdown",
   "metadata": {
    "slideshow": {
     "slide_type": "slide"
    }
   },
   "source": [
    "# Markdown\n",
    "\n",
    "- Github flavored markdown: https://help.github.com/articles/github-flavored-markdown/\n",
    "- Markdown basics: https://help.github.com/articles/markdown-basics/\n",
    "\n",
    "Here is a formula: \n",
    "\n",
    "$f(x,y) = x^2 + e^x$"
   ]
  },
  {
   "cell_type": "markdown",
   "metadata": {
    "slideshow": {
     "slide_type": "subslide"
    }
   },
   "source": [
    "# Images\n",
    "\n",
    "`<img src='https://s3.amazonaws.com/research_computing_tutorials/monty-python.png' width=\"300\">`\n",
    "\n",
    "This is an image:\n",
    "<img src='https://s3.amazonaws.com/research_computing_tutorials/monty-python.png' width=\"300\">"
   ]
  },
  {
   "cell_type": "markdown",
   "metadata": {},
   "source": [
    "# Code"
   ]
  },
  {
   "cell_type": "code",
   "execution_count": 1,
   "metadata": {
    "collapsed": false,
    "slideshow": {
     "slide_type": "subslide"
    }
   },
   "outputs": [
    {
     "data": {
      "text/plain": [
       "6"
      ]
     },
     "execution_count": 1,
     "metadata": {},
     "output_type": "execute_result"
    }
   ],
   "source": [
    "2+4"
   ]
  },
  {
   "cell_type": "code",
   "execution_count": 2,
   "metadata": {
    "collapsed": false
   },
   "outputs": [
    {
     "name": "stdout",
     "output_type": "stream",
     "text": [
      "hello\n"
     ]
    }
   ],
   "source": [
    "print(\"hello\")"
   ]
  },
  {
   "cell_type": "code",
   "execution_count": 3,
   "metadata": {
    "collapsed": false
   },
   "outputs": [
    {
     "name": "stdout",
     "output_type": "stream",
     "text": [
      "Hello world!\n"
     ]
    }
   ],
   "source": [
    "a=2\n",
    "print(\"Hello world!\")"
   ]
  },
  {
   "cell_type": "markdown",
   "metadata": {
    "slideshow": {
     "slide_type": "slide"
    }
   },
   "source": [
    "# Locally and Remote\n",
    "\n",
    "- Run locally\n",
    "- Connect to the cloud (e.g [AWS](http://aws.amazon.com/))\n",
    "- Connect to supercomputer (e.g. XSEDE Resource)\n",
    "- Add compute power:\n",
    "    - [mpi4py](http://mpi4py.scipy.org/)\n",
    "    - [IPython Parallel](http://ipython.org/ipython-doc/dev/parallel/)\n",
    "    - [spark](http://spark.incubator.apache.org/) big distributed data\n",
    "    - [Numbapro](http://docs.continuum.io/numbapro/) GPU\n",
    "    - ..."
   ]
  },
  {
   "cell_type": "markdown",
   "metadata": {
    "slideshow": {
     "slide_type": "slide"
    }
   },
   "source": [
    "# Documentation and Sharing\n",
    "\n",
    "<img src='https://raw.githubusercontent.com/scientific-visualization-2016/ClassMaterials/master/Images/ipython-notebook-sharing.png'>"
   ]
  },
  {
   "cell_type": "markdown",
   "metadata": {
    "slideshow": {
     "slide_type": "slide"
    }
   },
   "source": [
    "# Keyboard Shortcuts\n",
    "\n",
    "<img src='https://raw.githubusercontent.com/scientific-visualization-2016/ClassMaterials/master/Images/ipython-notebook-keyboard.png'>"
   ]
  },
  {
   "cell_type": "markdown",
   "metadata": {
    "slideshow": {
     "slide_type": "slide"
    }
   },
   "source": [
    "# Embeded Plots"
   ]
  },
  {
   "cell_type": "code",
   "execution_count": 4,
   "metadata": {
    "collapsed": false
   },
   "outputs": [
    {
     "name": "stdout",
     "output_type": "stream",
     "text": [
      "[-1.96081537  0.51098991 -0.03038128 ...,  2.67338147  0.45963294\n",
      " -0.80157216]\n"
     ]
    }
   ],
   "source": [
    "%matplotlib inline\n",
    "import matplotlib.pyplot as plt\n",
    "import numpy as np\n",
    "\n",
    "x = np.random.randn(10000)\n",
    "print(x)"
   ]
  },
  {
   "cell_type": "markdown",
   "metadata": {
    "slideshow": {
     "slide_type": "subslide"
    }
   },
   "source": [
    "## Plot a Histogram of x"
   ]
  },
  {
   "cell_type": "code",
   "execution_count": 5,
   "metadata": {
    "collapsed": false
   },
   "outputs": [
    {
     "data": {
      "image/png": "[encoded data removed]",
      "text/plain": [
       "<matplotlib.figure.Figure at 0x1057212d0>"
      ]
     },
     "metadata": {},
     "output_type": "display_data"
    }
   ],
   "source": [
    "plt.hist(x, bins=50)\n",
    "plt.show()"
   ]
  },
  {
   "cell_type": "markdown",
   "metadata": {
    "slideshow": {
     "slide_type": "slide"
    }
   },
   "source": [
    "# Notebooks can be customized\n",
    "\n",
    "- Custom `CSS`\n",
    "- Custom `javascript` libraries\n",
    "- Create your own output format.\n",
    "- Tools and workflow"
   ]
  },
  {
   "cell_type": "markdown",
   "metadata": {
    "slideshow": {
     "slide_type": "slide"
    }
   },
   "source": [
    "## Magic Commands\n",
    "\n",
    "- Built-in useful functions\n",
    "- `%` line commands\n",
    "- `%%` cell commands"
   ]
  },
  {
   "cell_type": "code",
   "execution_count": 6,
   "metadata": {
    "collapsed": false
   },
   "outputs": [
    {
     "data": {
      "application/json": {
       "cell": {
        "!": "OSMagics",
        "HTML": "Other",
        "SVG": "Other",
        "bash": "Other",
        "capture": "ExecutionMagics",
        "debug": "ExecutionMagics",
        "file": "Other",
        "html": "DisplayMagics",
        "javascript": "DisplayMagics",
        "latex": "DisplayMagics",
        "perl": "Other",
        "prun": "ExecutionMagics",
        "pypy": "Other",
        "python": "Other",
        "python2": "Other",
        "python3": "Other",
        "ruby": "Other",
        "script": "ScriptMagics",
        "sh": "Other",
        "svg": "DisplayMagics",
        "sx": "OSMagics",
        "system": "OSMagics",
        "time": "ExecutionMagics",
        "timeit": "ExecutionMagics",
        "writefile": "OSMagics"
       },
       "line": {
        "alias": "OSMagics",
        "alias_magic": "BasicMagics",
        "autocall": "AutoMagics",
        "automagic": "AutoMagics",
        "autosave": "KernelMagics",
        "bookmark": "OSMagics",
        "cat": "Other",
        "cd": "OSMagics",
        "clear": "KernelMagics",
        "colors": "BasicMagics",
        "config": "ConfigMagics",
        "connect_info": "KernelMagics",
        "cp": "Other",
        "debug": "ExecutionMagics",
        "dhist": "OSMagics",
        "dirs": "OSMagics",
        "doctest_mode": "BasicMagics",
        "ed": "Other",
        "edit": "KernelMagics",
        "env": "OSMagics",
        "gui": "BasicMagics",
        "hist": "Other",
        "history": "HistoryMagics",
        "install_default_config": "DeprecatedMagics",
        "install_ext": "ExtensionMagics",
        "install_profiles": "DeprecatedMagics",
        "killbgscripts": "ScriptMagics",
        "ldir": "Other",
        "less": "KernelMagics",
        "lf": "Other",
        "lk": "Other",
        "ll": "Other",
        "load": "CodeMagics",
        "load_ext": "ExtensionMagics",
        "loadpy": "CodeMagics",
        "logoff": "LoggingMagics",
        "logon": "LoggingMagics",
        "logstart": "LoggingMagics",
        "logstate": "LoggingMagics",
        "logstop": "LoggingMagics",
        "ls": "Other",
        "lsmagic": "BasicMagics",
        "lx": "Other",
        "macro": "ExecutionMagics",
        "magic": "BasicMagics",
        "man": "KernelMagics",
        "matplotlib": "PylabMagics",
        "mkdir": "Other",
        "more": "KernelMagics",
        "mv": "Other",
        "notebook": "BasicMagics",
        "page": "BasicMagics",
        "pastebin": "CodeMagics",
        "pdb": "ExecutionMagics",
        "pdef": "NamespaceMagics",
        "pdoc": "NamespaceMagics",
        "pfile": "NamespaceMagics",
        "pinfo": "NamespaceMagics",
        "pinfo2": "NamespaceMagics",
        "popd": "OSMagics",
        "pprint": "BasicMagics",
        "precision": "BasicMagics",
        "profile": "BasicMagics",
        "prun": "ExecutionMagics",
        "psearch": "NamespaceMagics",
        "psource": "NamespaceMagics",
        "pushd": "OSMagics",
        "pwd": "OSMagics",
        "pycat": "OSMagics",
        "pylab": "PylabMagics",
        "qtconsole": "KernelMagics",
        "quickref": "BasicMagics",
        "recall": "HistoryMagics",
        "rehashx": "OSMagics",
        "reload_ext": "ExtensionMagics",
        "rep": "Other",
        "rerun": "HistoryMagics",
        "reset": "NamespaceMagics",
        "reset_selective": "NamespaceMagics",
        "rm": "Other",
        "rmdir": "Other",
        "run": "ExecutionMagics",
        "save": "CodeMagics",
        "sc": "OSMagics",
        "set_env": "OSMagics",
        "store": "StoreMagics",
        "sx": "OSMagics",
        "system": "OSMagics",
        "tb": "ExecutionMagics",
        "time": "ExecutionMagics",
        "timeit": "ExecutionMagics",
        "unalias": "OSMagics",
        "unload_ext": "ExtensionMagics",
        "who": "NamespaceMagics",
        "who_ls": "NamespaceMagics",
        "whos": "NamespaceMagics",
        "xdel": "NamespaceMagics",
        "xmode": "BasicMagics"
       }
      },
      "text/plain": [
       "Available line magics:\n",
       "%alias  %alias_magic  %autocall  %automagic  %autosave  %bookmark  %cat  %cd  %clear  %colors  %config  %connect_info  %cp  %debug  %dhist  %dirs  %doctest_mode  %ed  %edit  %env  %gui  %hist  %history  %install_default_config  %install_ext  %install_profiles  %killbgscripts  %ldir  %less  %lf  %lk  %ll  %load  %load_ext  %loadpy  %logoff  %logon  %logstart  %logstate  %logstop  %ls  %lsmagic  %lx  %macro  %magic  %man  %matplotlib  %mkdir  %more  %mv  %notebook  %page  %pastebin  %pdb  %pdef  %pdoc  %pfile  %pinfo  %pinfo2  %popd  %pprint  %precision  %profile  %prun  %psearch  %psource  %pushd  %pwd  %pycat  %pylab  %qtconsole  %quickref  %recall  %rehashx  %reload_ext  %rep  %rerun  %reset  %reset_selective  %rm  %rmdir  %run  %save  %sc  %set_env  %store  %sx  %system  %tb  %time  %timeit  %unalias  %unload_ext  %who  %who_ls  %whos  %xdel  %xmode\n",
       "\n",
       "Available cell magics:\n",
       "%%!  %%HTML  %%SVG  %%bash  %%capture  %%debug  %%file  %%html  %%javascript  %%latex  %%perl  %%prun  %%pypy  %%python  %%python2  %%python3  %%ruby  %%script  %%sh  %%svg  %%sx  %%system  %%time  %%timeit  %%writefile\n",
       "\n",
       "Automagic is ON, % prefix IS NOT needed for line magics."
      ]
     },
     "execution_count": 6,
     "metadata": {},
     "output_type": "execute_result"
    }
   ],
   "source": [
    "%lsmagic"
   ]
  },
  {
   "cell_type": "code",
   "execution_count": 2,
   "metadata": {
    "collapsed": false,
    "slideshow": {
     "slide_type": "subslide"
    }
   },
   "outputs": [
    {
     "name": "stdout",
     "output_type": "stream",
     "text": [
      "100 loops, best of 3: 6.03 ms per loop\n"
     ]
    }
   ],
   "source": [
    "import numpy as np\n",
    "%timeit y = np.random.randn(100000)"
   ]
  },
  {
   "cell_type": "code",
   "execution_count": 8,
   "metadata": {
    "collapsed": false,
    "slideshow": {
     "slide_type": "subslide"
    }
   },
   "outputs": [
    {
     "name": "stdout",
     "output_type": "stream",
     "text": [
      "01_inclass-notebook.ipynb\t\t03_inclass_matplotlib.ipynb\r\n",
      "01_introduction-IPython-notebook.ipynb\t03_intro_matplotlib.ipynb\r\n",
      "02_inclass_python.ipynb\t\t\t04_effective_visualizations.ipynb\r\n",
      "02_python_overview.ipynb\r\n"
     ]
    }
   ],
   "source": [
    "%ls"
   ]
  },
  {
   "cell_type": "markdown",
   "metadata": {
    "slideshow": {
     "slide_type": "slide"
    }
   },
   "source": [
    "# Other Languages: Bash"
   ]
  },
  {
   "cell_type": "code",
   "execution_count": 9,
   "metadata": {
    "collapsed": false
   },
   "outputs": [
    {
     "name": "stdout",
     "output_type": "stream",
     "text": [
      "total 360\n",
      "-rw-r--r-- 1 tom staff   3165 Jan 19 15:18 01_inclass-notebook.ipynb\n",
      "-rw-r--r-- 1 tom staff  30074 Jan 19 15:23 01_introduction-IPython-notebook.ipynb\n",
      "-rw-r--r-- 1 tom staff   2013 Jan 19 15:18 02_inclass_python.ipynb\n",
      "-rw-r--r-- 1 tom staff   7169 Jan 19 15:18 02_python_overview.ipynb\n",
      "-rw-r--r-- 1 tom staff   1545 Jan 19 15:18 03_inclass_matplotlib.ipynb\n",
      "-rw-r--r-- 1 tom staff 201672 Jan 19 15:18 03_intro_matplotlib.ipynb\n",
      "-rw-r--r-- 1 tom staff 109122 Jan 19 15:18 04_effective_visualizations.ipynb\n"
     ]
    }
   ],
   "source": [
    "%%bash\n",
    "ls -l"
   ]
  },
  {
   "cell_type": "code",
   "execution_count": 10,
   "metadata": {
    "collapsed": false,
    "slideshow": {
     "slide_type": "subslide"
    }
   },
   "outputs": [
    {
     "name": "stdout",
     "output_type": "stream",
     "text": [
      "['01_inclass-notebook.ipynb', '01_introduction-IPython-notebook.ipynb', '02_inclass_python.ipynb', '02_python_overview.ipynb', '03_inclass_matplotlib.ipynb']\n"
     ]
    }
   ],
   "source": [
    "files = !ls # But glob is a better way\n",
    "print files[:5]\n"
   ]
  },
  {
   "cell_type": "markdown",
   "metadata": {
    "slideshow": {
     "slide_type": "slide"
    }
   },
   "source": [
    "# Keep it all together"
   ]
  },
  {
   "cell_type": "code",
   "execution_count": 11,
   "metadata": {
    "collapsed": false
   },
   "outputs": [
    {
     "name": "stdout",
     "output_type": "stream",
     "text": [
      "Writing example.cpp\n"
     ]
    }
   ],
   "source": [
    "%%writefile example.cpp\n",
    "#include <iostream>\n",
    "\n",
    "int main(){\n",
    "    std::cout << \"hello from c++\" << std::endl;\n",
    "}"
   ]
  },
  {
   "cell_type": "code",
   "execution_count": 12,
   "metadata": {
    "collapsed": false
   },
   "outputs": [
    {
     "name": "stdout",
     "output_type": "stream",
     "text": [
      "example.cpp\r\n"
     ]
    }
   ],
   "source": [
    "%ls example.cpp"
   ]
  },
  {
   "cell_type": "code",
   "execution_count": 13,
   "metadata": {
    "collapsed": false
   },
   "outputs": [
    {
     "name": "stdout",
     "output_type": "stream",
     "text": [
      "hello from c++\n"
     ]
    }
   ],
   "source": [
    "%%bash\n",
    "g++ example.cpp -o example\n",
    "./example"
   ]
  },
  {
   "cell_type": "markdown",
   "metadata": {
    "slideshow": {
     "slide_type": "slide"
    }
   },
   "source": [
    "# NBconvert examples"
   ]
  },
  {
   "cell_type": "markdown",
   "metadata": {},
   "source": [
    "- HTML\n",
    "- PDF (print) - you have to have LaTex installed\n",
    "- Slides\n",
    "- Dynamic Slides\n",
    "- ReStructured Text ([sphinx](http://sphinx-doc.org/))"
   ]
  },
  {
   "cell_type": "code",
   "execution_count": 14,
   "metadata": {
    "collapsed": false,
    "slideshow": {
     "slide_type": "subslide"
    }
   },
   "outputs": [
    {
     "name": "stdout",
     "output_type": "stream",
     "text": [
      "[NbConvertApp] Converting notebook 01_introduction-IPython-notebook.ipynb to pdf\n",
      "[NbConvertApp] Support files will be in 01_introduction-IPython-notebook_files/\n",
      "[NbConvertApp] Making directory 01_introduction-IPython-notebook_files\n",
      "[NbConvertApp] Writing 27538 bytes to notebook.tex\n",
      "[NbConvertApp] Building PDF\n",
      "[NbConvertApp] Running pdflatex 3 times: [u'pdflatex', u'notebook.tex']\n",
      "[NbConvertApp] PDF successfully created\n",
      "[NbConvertApp] Writing 140631 bytes to 01_introduction-IPython-notebook.pdf\n"
     ]
    }
   ],
   "source": [
    "!ipython nbconvert --to 'PDF' 01_introduction-IPython-notebook.ipynb"
   ]
  },
  {
   "cell_type": "code",
   "execution_count": 15,
   "metadata": {
    "collapsed": false
   },
   "outputs": [],
   "source": [
    "!open 01_introduction-IPython-notebook.pdf"
   ]
  },
  {
   "cell_type": "code",
   "execution_count": 16,
   "metadata": {
    "collapsed": false,
    "slideshow": {
     "slide_type": "subslide"
    }
   },
   "outputs": [
    {
     "name": "stdout",
     "output_type": "stream",
     "text": [
      "[NbConvertApp] Converting notebook 01_introduction-IPython-notebook.ipynb to html\n",
      "[NbConvertApp] Writing 221940 bytes to 01_introduction-IPython-notebook.html\n"
     ]
    }
   ],
   "source": [
    "!ipython nbconvert --to 'html' 01_introduction-IPython-notebook.ipynb"
   ]
  }
 ],
 "metadata": {
  "celltoolbar": "Slideshow",
  "kernelspec": {
   "display_name": "Python 2",
   "language": "python",
   "name": "python2"
  },
  "language_info": {
   "codemirror_mode": {
    "name": "ipython",
    "version": 2
   },
   "file_extension": ".py",
   "mimetype": "text/x-python",
   "name": "python",
   "nbconvert_exporter": "python",
   "pygments_lexer": "ipython2",
   "version": "2.7.11"
  }
 },
 "nbformat": 4,
 "nbformat_minor": 0
}
